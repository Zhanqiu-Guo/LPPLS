{
 "cells": [
  {
   "cell_type": "code",
   "execution_count": 2,
   "metadata": {},
   "outputs": [],
   "source": [
    "import pandas as pd  \n",
    "import numpy as np\n",
    "from datetime import datetime as dt\n",
    "import lppls"
   ]
  },
  {
   "cell_type": "code",
   "execution_count": 14,
   "metadata": {},
   "outputs": [],
   "source": [
    "df = pd.read_csv('ETF_bubble_v1.1/res_df.csv', encoding='gbk')"
   ]
  },
  {
   "cell_type": "code",
   "execution_count": 32,
   "metadata": {},
   "outputs": [
    {
     "data": {
      "text/html": [
       "<div>\n",
       "<style scoped>\n",
       "    .dataframe tbody tr th:only-of-type {\n",
       "        vertical-align: middle;\n",
       "    }\n",
       "\n",
       "    .dataframe tbody tr th {\n",
       "        vertical-align: top;\n",
       "    }\n",
       "\n",
       "    .dataframe thead th {\n",
       "        text-align: right;\n",
       "    }\n",
       "</style>\n",
       "<table border=\"1\" class=\"dataframe\">\n",
       "  <thead>\n",
       "    <tr style=\"text-align: right;\">\n",
       "      <th></th>\n",
       "      <th>FUND_CODE</th>\n",
       "      <th>FUND_NAME</th>\n",
       "      <th>TRADE_DT</th>\n",
       "      <th>S_DQ_AMOUNT</th>\n",
       "      <th>S_DQ_ADJOPEN</th>\n",
       "      <th>S_DQ_ADJCLOSE</th>\n",
       "      <th>S_DQ_ADJLOW</th>\n",
       "      <th>S_DQ_ADJHIGH</th>\n",
       "    </tr>\n",
       "    <tr>\n",
       "      <th>TRADE_DT</th>\n",
       "      <th></th>\n",
       "      <th></th>\n",
       "      <th></th>\n",
       "      <th></th>\n",
       "      <th></th>\n",
       "      <th></th>\n",
       "      <th></th>\n",
       "      <th></th>\n",
       "    </tr>\n",
       "  </thead>\n",
       "  <tbody>\n",
       "    <tr>\n",
       "      <th>20200102</th>\n",
       "      <td>512690.SH</td>\n",
       "      <td>酒ETF</td>\n",
       "      <td>20200102</td>\n",
       "      <td>40592.320</td>\n",
       "      <td>1.190</td>\n",
       "      <td>1.183</td>\n",
       "      <td>1.164</td>\n",
       "      <td>1.190</td>\n",
       "    </tr>\n",
       "    <tr>\n",
       "      <th>20200103</th>\n",
       "      <td>512690.SH</td>\n",
       "      <td>酒ETF</td>\n",
       "      <td>20200103</td>\n",
       "      <td>37435.532</td>\n",
       "      <td>1.177</td>\n",
       "      <td>1.169</td>\n",
       "      <td>1.162</td>\n",
       "      <td>1.181</td>\n",
       "    </tr>\n",
       "    <tr>\n",
       "      <th>20200106</th>\n",
       "      <td>512690.SH</td>\n",
       "      <td>酒ETF</td>\n",
       "      <td>20200106</td>\n",
       "      <td>38823.248</td>\n",
       "      <td>1.167</td>\n",
       "      <td>1.160</td>\n",
       "      <td>1.155</td>\n",
       "      <td>1.170</td>\n",
       "    </tr>\n",
       "    <tr>\n",
       "      <th>20200107</th>\n",
       "      <td>512690.SH</td>\n",
       "      <td>酒ETF</td>\n",
       "      <td>20200107</td>\n",
       "      <td>34886.701</td>\n",
       "      <td>1.163</td>\n",
       "      <td>1.175</td>\n",
       "      <td>1.158</td>\n",
       "      <td>1.175</td>\n",
       "    </tr>\n",
       "    <tr>\n",
       "      <th>20200108</th>\n",
       "      <td>512690.SH</td>\n",
       "      <td>酒ETF</td>\n",
       "      <td>20200108</td>\n",
       "      <td>33715.881</td>\n",
       "      <td>1.165</td>\n",
       "      <td>1.170</td>\n",
       "      <td>1.165</td>\n",
       "      <td>1.177</td>\n",
       "    </tr>\n",
       "    <tr>\n",
       "      <th>...</th>\n",
       "      <td>...</td>\n",
       "      <td>...</td>\n",
       "      <td>...</td>\n",
       "      <td>...</td>\n",
       "      <td>...</td>\n",
       "      <td>...</td>\n",
       "      <td>...</td>\n",
       "      <td>...</td>\n",
       "    </tr>\n",
       "    <tr>\n",
       "      <th>20230725</th>\n",
       "      <td>512690.SH</td>\n",
       "      <td>酒ETF</td>\n",
       "      <td>20230725</td>\n",
       "      <td>1425212.655</td>\n",
       "      <td>2.158</td>\n",
       "      <td>2.203</td>\n",
       "      <td>2.150</td>\n",
       "      <td>2.211</td>\n",
       "    </tr>\n",
       "    <tr>\n",
       "      <th>20230726</th>\n",
       "      <td>512690.SH</td>\n",
       "      <td>酒ETF</td>\n",
       "      <td>20230726</td>\n",
       "      <td>775372.916</td>\n",
       "      <td>2.198</td>\n",
       "      <td>2.200</td>\n",
       "      <td>2.179</td>\n",
       "      <td>2.219</td>\n",
       "    </tr>\n",
       "    <tr>\n",
       "      <th>20230727</th>\n",
       "      <td>512690.SH</td>\n",
       "      <td>酒ETF</td>\n",
       "      <td>20230727</td>\n",
       "      <td>1292939.141</td>\n",
       "      <td>2.206</td>\n",
       "      <td>2.222</td>\n",
       "      <td>2.192</td>\n",
       "      <td>2.254</td>\n",
       "    </tr>\n",
       "    <tr>\n",
       "      <th>20230728</th>\n",
       "      <td>512690.SH</td>\n",
       "      <td>酒ETF</td>\n",
       "      <td>20230728</td>\n",
       "      <td>980144.130</td>\n",
       "      <td>2.208</td>\n",
       "      <td>2.272</td>\n",
       "      <td>2.203</td>\n",
       "      <td>2.278</td>\n",
       "    </tr>\n",
       "    <tr>\n",
       "      <th>20230731</th>\n",
       "      <td>512690.SH</td>\n",
       "      <td>酒ETF</td>\n",
       "      <td>20230731</td>\n",
       "      <td>1379212.864</td>\n",
       "      <td>2.291</td>\n",
       "      <td>2.272</td>\n",
       "      <td>2.262</td>\n",
       "      <td>2.360</td>\n",
       "    </tr>\n",
       "  </tbody>\n",
       "</table>\n",
       "<p>867 rows × 8 columns</p>\n",
       "</div>"
      ],
      "text/plain": [
       "          FUND_CODE FUND_NAME  TRADE_DT  S_DQ_AMOUNT  S_DQ_ADJOPEN  \\\n",
       "TRADE_DT                                                             \n",
       "20200102  512690.SH      酒ETF  20200102    40592.320         1.190   \n",
       "20200103  512690.SH      酒ETF  20200103    37435.532         1.177   \n",
       "20200106  512690.SH      酒ETF  20200106    38823.248         1.167   \n",
       "20200107  512690.SH      酒ETF  20200107    34886.701         1.163   \n",
       "20200108  512690.SH      酒ETF  20200108    33715.881         1.165   \n",
       "...             ...       ...       ...          ...           ...   \n",
       "20230725  512690.SH      酒ETF  20230725  1425212.655         2.158   \n",
       "20230726  512690.SH      酒ETF  20230726   775372.916         2.198   \n",
       "20230727  512690.SH      酒ETF  20230727  1292939.141         2.206   \n",
       "20230728  512690.SH      酒ETF  20230728   980144.130         2.208   \n",
       "20230731  512690.SH      酒ETF  20230731  1379212.864         2.291   \n",
       "\n",
       "          S_DQ_ADJCLOSE  S_DQ_ADJLOW  S_DQ_ADJHIGH  \n",
       "TRADE_DT                                            \n",
       "20200102          1.183        1.164         1.190  \n",
       "20200103          1.169        1.162         1.181  \n",
       "20200106          1.160        1.155         1.170  \n",
       "20200107          1.175        1.158         1.175  \n",
       "20200108          1.170        1.165         1.177  \n",
       "...                 ...          ...           ...  \n",
       "20230725          2.203        2.150         2.211  \n",
       "20230726          2.200        2.179         2.219  \n",
       "20230727          2.222        2.192         2.254  \n",
       "20230728          2.272        2.203         2.278  \n",
       "20230731          2.272        2.262         2.360  \n",
       "\n",
       "[867 rows x 8 columns]"
      ]
     },
     "execution_count": 32,
     "metadata": {},
     "output_type": "execute_result"
    }
   ],
   "source": [
    "etf_df[etf_df['FUND_CODE'] == '512690.SH']"
   ]
  },
  {
   "cell_type": "code",
   "execution_count": 12,
   "metadata": {},
   "outputs": [],
   "source": [
    "# read in data\n",
    "etf_df = pd.read_csv('etf-trade-data-2020-2023.csv', encoding='gbk')\n",
    "etf_lst = etf_df['FUND_CODE'].unique()\n",
    "etf_df.index = etf_df['TRADE_DT']\n",
    "current_date = max(etf_df['TRADE_DT'])"
   ]
  },
  {
   "cell_type": "code",
   "execution_count": 29,
   "metadata": {},
   "outputs": [],
   "source": [
    "price = etf_df[etf_df['FUND_CODE'] == '159869.SZ']['S_DQ_ADJCLOSE']\n",
    "date = etf_df[etf_df['FUND_CODE'] == '159869.SZ']['TRADE_DT']\n",
    "\n",
    "time = pd.to_datetime(date, format='%Y%m%d')"
   ]
  },
  {
   "cell_type": "code",
   "execution_count": 26,
   "metadata": {},
   "outputs": [],
   "source": [
    "import matplotlib.pyplot as plt\n",
    "plt.style.use('seaborn-whitegrid')\n",
    "%matplotlib inline"
   ]
  },
  {
   "cell_type": "code",
   "execution_count": 30,
   "metadata": {},
   "outputs": [
    {
     "data": {
      "text/plain": [
       "[<matplotlib.lines.Line2D at 0x207b8221700>]"
      ]
     },
     "execution_count": 30,
     "metadata": {},
     "output_type": "execute_result"
    },
    {
     "data": {
      "image/png": "[encoded data removed]",
      "text/plain": [
       "<Figure size 640x480 with 1 Axes>"
      ]
     },
     "metadata": {},
     "output_type": "display_data"
    }
   ],
   "source": [
    "plt.plot(time, price)"
   ]
  },
  {
   "cell_type": "code",
   "execution_count": 3,
   "metadata": {},
   "outputs": [],
   "source": [
    "def fit_price(dataframe):\n",
    "    time = [pd.Timestamp.toordinal(dt.strptime(str(t1), '%Y%m%d')) for t1 in dataframe.index]\n",
    "    price = np.log(dataframe['S_DQ_ADJCLOSE'].values)\n",
    "    observations = np.array([time, price])\n",
    "    lppls_model = lppls.LPPLS(observations=observations)\n",
    "    lppls_model.mp_compute_nested_fits(\n",
    "                workers=20,\n",
    "                window_size=80,\n",
    "                smallest_window_size=5,\n",
    "                outer_increment=2,\n",
    "                inner_increment=2,\n",
    "                max_searches=25,\n",
    "    )\n",
    "    return dataframe, lppls_model"
   ]
  },
  {
   "cell_type": "code",
   "execution_count": 4,
   "metadata": {},
   "outputs": [],
   "source": [
    "def filt_indicator(dataframe, lppls_model, filter_conditions_config = None):\n",
    "    res_df = lppls_model.compute_indicators(lppls_model.indicator_result, filter_conditions_config)\n",
    "    res_df['time'] = [pd.Timestamp(pd.Timestamp.fromordinal(int(t1)).strftime('%Y-%m-%d %H:%M:%S')) for t1 in res_df['time']]\n",
    "    dataframe['time'] = pd.to_datetime(dataframe['TRADE_DT'], format='%Y%m%d')\n",
    "    dataframe=dataframe.merge(res_df, on='time')\n",
    "    return dataframe"
   ]
  },
  {
   "cell_type": "code",
   "execution_count": null,
   "metadata": {},
   "outputs": [],
   "source": [
    "res_df = pd.DataFrame()\n",
    "for etf_code in etf_lst:\n",
    "    single_etf = etf_df[etf_df['FUND_CODE'] == etf_code][-80:]\n",
    "    if len(single_etf) >= 80:\n",
    "        dataframe, lppls_model = fit_price(single_etf)\n",
    "        temp_df = filt_indicator(dataframe, lppls_model)\n",
    "        res_df = pd.concat([res_df, temp_df[['TRADE_DT', 'FUND_CODE', 'neg_conf', 'pos_conf']]]).reset_index(drop=True)\n",
    "# time 6m13.8s"
   ]
  }
 ],
 "metadata": {
  "kernelspec": {
   "display_name": "base",
   "language": "python",
   "name": "python3"
  },
  "language_info": {
   "codemirror_mode": {
    "name": "ipython",
    "version": 3
   },
   "file_extension": ".py",
   "mimetype": "text/x-python",
   "name": "python",
   "nbconvert_exporter": "python",
   "pygments_lexer": "ipython3",
   "version": "3.9.13"
  },
  "orig_nbformat": 4
 },
 "nbformat": 4,
 "nbformat_minor": 2
}
